{
 "cells": [
  {
   "cell_type": "code",
   "execution_count": 6,
   "id": "f0fefca8",
   "metadata": {},
   "outputs": [
    {
     "name": "stdout",
     "output_type": "stream",
     "text": [
      "The autoreload extension is already loaded. To reload it, use:\n",
      "  %reload_ext autoreload\n"
     ]
    }
   ],
   "source": [
    "import tweepy\n",
    "import numpy as np\n",
    "import pandas as pd\n",
    "import matplotlib.pyplot as plt\n",
    "\n",
    "%load_ext autoreload\n",
    "%autoreload 2"
   ]
  },
  {
   "cell_type": "code",
   "execution_count": null,
   "id": "273b944b",
   "metadata": {},
   "outputs": [],
   "source": [
    "# Enter your API keys and access tokens here\n",
    "consumer_key = 'wdQqNz3TKMuzmp2ugW7SK37Ct'\n",
    "consumer_secret = '7HaGVRROAVuxHOH29SNcUlHp1XF97zqOCgmWava9pDfJJsap4s'\n",
    "access_token = ''\n",
    "access_token_secret = ''\n",
    "\n",
    "tweet_list = get_tweets(handle, count=200)\n"
   ]
  }
 ],
 "metadata": {
  "kernelspec": {
   "display_name": "DL3 (3.9)",
   "language": "python",
   "name": "dl3"
  },
  "language_info": {
   "codemirror_mode": {
    "name": "ipython",
    "version": 3
   },
   "file_extension": ".py",
   "mimetype": "text/x-python",
   "name": "python",
   "nbconvert_exporter": "python",
   "pygments_lexer": "ipython3",
   "version": "3.9.13"
  }
 },
 "nbformat": 4,
 "nbformat_minor": 5
}
