{
 "cells": [
  {
   "cell_type": "code",
   "execution_count": 2,
   "id": "8f0b31ab",
   "metadata": {},
   "outputs": [],
   "source": [
    "import tweepy\n",
    "import numpy as np\n",
    "import pandas as pd\n",
    "import matplotlib.pyplot as plt\n",
    "from functions import PoliticalSentiment\n",
    "\n",
    "%load_ext autoreload\n",
    "%autoreload 2"
   ]
  },
  {
   "cell_type": "code",
   "execution_count": 3,
   "id": "e197f78c",
   "metadata": {},
   "outputs": [],
   "source": [
    "# Enter your API keys and access tokens here, make sure to delete credentials when committing to git\n",
    "ps = PoliticalSentiment(consumer_key, consumer_secret, access_token, access_token_secret)"
   ]
  },
  {
   "cell_type": "code",
   "execution_count": 65,
   "id": "4c18881b",
   "metadata": {},
   "outputs": [
    {
     "data": {
      "text/html": [
       "<div>\n",
       "<style scoped>\n",
       "    .dataframe tbody tr th:only-of-type {\n",
       "        vertical-align: middle;\n",
       "    }\n",
       "\n",
       "    .dataframe tbody tr th {\n",
       "        vertical-align: top;\n",
       "    }\n",
       "\n",
       "    .dataframe thead th {\n",
       "        text-align: right;\n",
       "    }\n",
       "</style>\n",
       "<table border=\"1\" class=\"dataframe\">\n",
       "  <thead>\n",
       "    <tr style=\"text-align: right;\">\n",
       "      <th></th>\n",
       "      <th>FirstName</th>\n",
       "      <th>LastName</th>\n",
       "      <th>Twitter Handle</th>\n",
       "      <th>St/Dis</th>\n",
       "      <th>Party</th>\n",
       "    </tr>\n",
       "  </thead>\n",
       "  <tbody>\n",
       "    <tr>\n",
       "      <th>0</th>\n",
       "      <td>Alma</td>\n",
       "      <td>Adams</td>\n",
       "      <td>@RepAdams</td>\n",
       "      <td>NC12</td>\n",
       "      <td>D</td>\n",
       "    </tr>\n",
       "    <tr>\n",
       "      <th>1</th>\n",
       "      <td>Robert</td>\n",
       "      <td>Aderholt</td>\n",
       "      <td>@Robert_Aderholt</td>\n",
       "      <td>AL04</td>\n",
       "      <td>R</td>\n",
       "    </tr>\n",
       "  </tbody>\n",
       "</table>\n",
       "</div>"
      ],
      "text/plain": [
       "  FirstName  LastName    Twitter Handle St/Dis Party\n",
       "0      Alma     Adams         @RepAdams   NC12     D\n",
       "1    Robert  Aderholt  @Robert_Aderholt   AL04     R"
      ]
     },
     "execution_count": 65,
     "metadata": {},
     "output_type": "execute_result"
    }
   ],
   "source": [
    "handles = pd.read_csv(\"data/handles.csv\", sep=\",\")\n",
    "handles.head(2)"
   ]
  },
  {
   "cell_type": "code",
   "execution_count": 62,
   "id": "95077242",
   "metadata": {},
   "outputs": [],
   "source": [
    "handles_d = handles[handles[\"Party\"] == \"D\"][\"Twitter Handle\"]\n",
    "handles_r = handles[handles[\"Party\"] == \"R\"][\"Twitter Handle\"]"
   ]
  },
  {
   "cell_type": "code",
   "execution_count": 47,
   "id": "d8acfef9",
   "metadata": {},
   "outputs": [
    {
     "name": "stdout",
     "output_type": "stream",
     "text": [
      "9577\n"
     ]
    }
   ],
   "source": [
    "tweets_d = []\n",
    "for h in handles_d:\n",
    "    tweets = ps.get_tweets(h, 300)\n",
    "    tweets_d.append(tweets)\n",
    "tweets_d = [x.text for sublist in tweets_d for x in sublist]\n",
    "print(len(tweets_d))"
   ]
  },
  {
   "cell_type": "code",
   "execution_count": 63,
   "id": "17f0aca3",
   "metadata": {},
   "outputs": [
    {
     "name": "stdout",
     "output_type": "stream",
     "text": [
      "14258\n"
     ]
    }
   ],
   "source": [
    "tweets_r = []\n",
    "for h in handles_r:\n",
    "    tweets = ps.get_tweets(h, 300)\n",
    "    tweets_r.append(tweets)\n",
    "tweets_r = [x.text for sublist in tweets_r for x in sublist]\n",
    "print(len(tweets_r))"
   ]
  },
  {
   "cell_type": "code",
   "execution_count": 66,
   "id": "8a0f0362",
   "metadata": {},
   "outputs": [],
   "source": [
    "tweets_df = pd.DataFrame()\n",
    "tweets = tweets_d + tweets_r\n",
    "labels= [\"D\"] * len(tweets_d) + [\"R\"] * len(tweets_r)\n",
    "tweets_df[\"tweets\"] = tweets\n",
    "tweets_df[\"labls\"] = labels\n",
    "tweets_df.to_csv(\"data/tweets.csv\", index=False)"
   ]
  },
  {
   "cell_type": "code",
   "execution_count": 67,
   "id": "d7278bbc",
   "metadata": {},
   "outputs": [
    {
     "data": {
      "text/html": [
       "<div>\n",
       "<style scoped>\n",
       "    .dataframe tbody tr th:only-of-type {\n",
       "        vertical-align: middle;\n",
       "    }\n",
       "\n",
       "    .dataframe tbody tr th {\n",
       "        vertical-align: top;\n",
       "    }\n",
       "\n",
       "    .dataframe thead th {\n",
       "        text-align: right;\n",
       "    }\n",
       "</style>\n",
       "<table border=\"1\" class=\"dataframe\">\n",
       "  <thead>\n",
       "    <tr style=\"text-align: right;\">\n",
       "      <th></th>\n",
       "      <th>tweets</th>\n",
       "      <th>labls</th>\n",
       "    </tr>\n",
       "  </thead>\n",
       "  <tbody>\n",
       "    <tr>\n",
       "      <th>0</th>\n",
       "      <td>Proud to see the State House doing the work! #...</td>\n",
       "      <td>D</td>\n",
       "    </tr>\n",
       "    <tr>\n",
       "      <th>1</th>\n",
       "      <td>RT @RepJamesClyburn: The first Social Security...</td>\n",
       "      <td>D</td>\n",
       "    </tr>\n",
       "    <tr>\n",
       "      <th>2</th>\n",
       "      <td>RT @ReubenJones1: Happening Today: @VP Kamala ...</td>\n",
       "      <td>D</td>\n",
       "    </tr>\n",
       "    <tr>\n",
       "      <th>3</th>\n",
       "      <td>RT @cadwego: “@SenBooker (D-NJ) and Congresswo...</td>\n",
       "      <td>D</td>\n",
       "    </tr>\n",
       "    <tr>\n",
       "      <th>4</th>\n",
       "      <td>The beating and murder of Tyre Nichols is unco...</td>\n",
       "      <td>D</td>\n",
       "    </tr>\n",
       "  </tbody>\n",
       "</table>\n",
       "</div>"
      ],
      "text/plain": [
       "                                              tweets labls\n",
       "0  Proud to see the State House doing the work! #...     D\n",
       "1  RT @RepJamesClyburn: The first Social Security...     D\n",
       "2  RT @ReubenJones1: Happening Today: @VP Kamala ...     D\n",
       "3  RT @cadwego: “@SenBooker (D-NJ) and Congresswo...     D\n",
       "4  The beating and murder of Tyre Nichols is unco...     D"
      ]
     },
     "execution_count": 67,
     "metadata": {},
     "output_type": "execute_result"
    }
   ],
   "source": [
    "tweets_df = pd.read_csv(\"data/tweets.csv\")\n",
    "tweets_df.head()"
   ]
  },
  {
   "cell_type": "code",
   "execution_count": null,
   "id": "8458971f",
   "metadata": {},
   "outputs": [],
   "source": []
  }
 ],
 "metadata": {
  "kernelspec": {
   "display_name": "Python 3 (ipykernel)",
   "language": "python",
   "name": "python3"
  },
  "language_info": {
   "codemirror_mode": {
    "name": "ipython",
    "version": 3
   },
   "file_extension": ".py",
   "mimetype": "text/x-python",
   "name": "python",
   "nbconvert_exporter": "python",
   "pygments_lexer": "ipython3",
   "version": "3.10.9"
  }
 },
 "nbformat": 4,
 "nbformat_minor": 5
}
