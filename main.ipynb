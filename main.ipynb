{
 "cells": [
  {
   "cell_type": "code",
   "execution_count": 6,
   "id": "da96a9fd",
   "metadata": {},
   "outputs": [
    {
     "name": "stdout",
     "output_type": "stream",
     "text": [
      "The autoreload extension is already loaded. To reload it, use:\n",
      "  %reload_ext autoreload\n"
     ]
    }
   ],
   "source": [
    "import tweepy\n",
    "import numpy as np\n",
    "import pandas as pd\n",
    "import matplotlib.pyplot as plt\n",
    "\n",
    "%load_ext autoreload\n",
    "%autoreload 2"
   ]
  },
  {
   "cell_type": "code",
   "execution_count": null,
   "id": "6983eda9",
   "metadata": {},
   "outputs": [],
   "source": [
    "# Enter your API keys and access tokens here\n",
    "consumer_key = ''\n",
    "consumer_secret = ''\n",
    "access_token = ''\n",
    "access_token_secret = ''\n",
    "\n",
    "# Authenticate with the Twitter API\n",
    "auth = tweepy.OAuth1UserHandler(consumer_key, consumer_secret, access_token, access_token_secret)\n",
    "api = tweepy.API(auth)\n",
    "\n",
    "# Set the handle you want to get tweets from\n",
    "handle = 'twitterhandle'\n",
    "\n",
    "# Get the tweets\n",
    "tweets = api.user_timeline(screen_name=handle, count=200)\n",
    "\n",
    "# Create a list to store the tweets\n",
    "tweet_list = []\n",
    "\n",
    "# Iterate through the tweets and add them to the list\n",
    "for tweet in tweets:\n",
    "    tweet_list.append(tweet)\n",
    "\n",
    "# Keep getting tweets until there are no more to get\n",
    "while len(tweets) > 0:\n",
    "    # The max_id param will get the oldest tweets not yet retrieved\n",
    "    oldest_tweet = tweets[-1].id - 1\n",
    "    tweets = api.user_timeline(screen_name=handle, count=200, max_id=oldest_tweet)\n",
    "    for tweet in tweets:\n",
    "        tweet_list.append(tweet)\n"
   ]
  }
 ],
 "metadata": {
  "kernelspec": {
   "display_name": "DL3 (3.9)",
   "language": "python",
   "name": "dl3"
  },
  "language_info": {
   "codemirror_mode": {
    "name": "ipython",
    "version": 3
   },
   "file_extension": ".py",
   "mimetype": "text/x-python",
   "name": "python",
   "nbconvert_exporter": "python",
   "pygments_lexer": "ipython3",
   "version": "3.9.13"
  }
 },
 "nbformat": 4,
 "nbformat_minor": 5
}
